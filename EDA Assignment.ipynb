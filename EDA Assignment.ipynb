{
 "cells": [
  {
   "cell_type": "markdown",
   "id": "b36b636e",
   "metadata": {},
   "source": [
    "# EDA Solutions"
   ]
  },
  {
   "cell_type": "code",
   "execution_count": null,
   "id": "ed84a9bb",
   "metadata": {},
   "outputs": [],
   "source": [
    "import pandas as pd\n",
    "import numpy as np\n",
    "import matplotlib.pyplot as plt\n",
    "import seaborn as sns\n",
    "from datetime import datetime, date\n",
    "sns.set_style('whitegrid')\n",
    "%matplotlib inline"
   ]
  },
  {
   "cell_type": "markdown",
   "id": "caf4d096",
   "metadata": {},
   "source": [
    "## 1️⃣ Used Bike Details Dataset\n",
    "Load the dataset first:"
   ]
  },
  {
   "cell_type": "code",
   "execution_count": null,
   "id": "faa9c186",
   "metadata": {},
   "outputs": [],
   "source": [
    "# ⬇️ Update the path to your CSV\n",
    "bike_df = pd.read_csv('bike_details.csv')\n",
    "print('Rows:', bike_df.shape[0], '| Columns:', bike_df.shape[1])\n",
    "bike_df.head()"
   ]
  },
  {
   "cell_type": "markdown",
   "id": "e7a635db",
   "metadata": {},
   "source": [
    "🔎 **Q1. Range of selling prices**"
   ]
  },
  {
   "cell_type": "code",
   "execution_count": null,
   "id": "245c8e0a",
   "metadata": {},
   "outputs": [],
   "source": [
    "price_min, price_max = bike_df['selling_price'].agg(['min','max'])\n",
    "print(f'₹{price_min:,} – ₹{price_max:,}')"
   ]
  },
  {
   "cell_type": "markdown",
   "id": "0fe72a1d",
   "metadata": {},
   "source": [
    "🔸 **Q2. Median selling price**"
   ]
  },
  {
   "cell_type": "code",
   "execution_count": null,
   "id": "050084d2",
   "metadata": {},
   "outputs": [],
   "source": [
    "median_price = bike_df['selling_price'].median()\n",
    "print(f'Median selling price: ₹{median_price:,}')"
   ]
  },
  {
   "cell_type": "markdown",
   "id": "e9479b60",
   "metadata": {},
   "source": [
    "🔸 **Q3. Most common seller type**"
   ]
  },
  {
   "cell_type": "code",
   "execution_count": null,
   "id": "efe56d74",
   "metadata": {},
   "outputs": [],
   "source": [
    "most_common = bike_df['seller_type'].mode()[0]\n",
    "print('Most common seller type:', most_common)"
   ]
  },
  {
   "cell_type": "markdown",
   "id": "4fe37880",
   "metadata": {},
   "source": [
    "🔸 **Q4. Bikes driven > 50 000 km**"
   ]
  },
  {
   "cell_type": "code",
   "execution_count": null,
   "id": "a6d6a5dc",
   "metadata": {},
   "outputs": [],
   "source": [
    "over_50k = (bike_df['km_driven'] > 50000).sum()\n",
    "print('Count:', over_50k)"
   ]
  },
  {
   "cell_type": "markdown",
   "id": "64d66a94",
   "metadata": {},
   "source": [
    "🔸 **Q5. Average `km_driven` by ownership type**"
   ]
  },
  {
   "cell_type": "code",
   "execution_count": null,
   "id": "ed8177a8",
   "metadata": {},
   "outputs": [],
   "source": [
    "avg_km_by_owner = bike_df.groupby('owner')['km_driven'].mean().sort_values(ascending=False)\n",
    "avg_km_by_owner"
   ]
  },
  {
   "cell_type": "markdown",
   "id": "f1a7c074",
   "metadata": {},
   "source": [
    "🔸 **Q6. Proportion of bikes from ≤ 2015**"
   ]
  },
  {
   "cell_type": "code",
   "execution_count": null,
   "id": "ae3cd9f5",
   "metadata": {},
   "outputs": [],
   "source": [
    "prop_2015_older = (bike_df['year'] <= 2015).mean()\n",
    "print(f'{prop_2015_older:.1%} of bikes are from 2015 or older')"
   ]
  },
  {
   "cell_type": "markdown",
   "id": "3e94e44d",
   "metadata": {},
   "source": [
    "🔸 **Q7. Missing‑value overview**"
   ]
  },
  {
   "cell_type": "code",
   "execution_count": null,
   "id": "33bf8838",
   "metadata": {},
   "outputs": [],
   "source": [
    "missing = bike_df.isna().sum()\n",
    "missing"
   ]
  },
  {
   "cell_type": "markdown",
   "id": "a118f7d0",
   "metadata": {},
   "source": [
    "🔸 **Q8. Highest `ex_showroom_price` & bike**"
   ]
  },
  {
   "cell_type": "code",
   "execution_count": null,
   "id": "4b575548",
   "metadata": {},
   "outputs": [],
   "source": [
    "idx = bike_df['ex_showroom_price'].idxmax()\n",
    "highest_row = bike_df.loc[idx, ['name','ex_showroom_price']]\n",
    "highest_row"
   ]
  },
  {
   "cell_type": "markdown",
   "id": "589dfb7c",
   "metadata": {},
   "source": [
    "🔸 **Q9. Total bikes by seller type**"
   ]
  },
  {
   "cell_type": "code",
   "execution_count": null,
   "id": "70c234d8",
   "metadata": {},
   "outputs": [],
   "source": [
    "bike_df['seller_type'].value_counts()"
   ]
  },
  {
   "cell_type": "markdown",
   "id": "c6b159c2",
   "metadata": {},
   "source": [
    "🔸 **Q10. Relationship between `selling_price` & `km_driven` for *first‑owner* bikes**"
   ]
  },
  {
   "cell_type": "code",
   "execution_count": null,
   "id": "082e9875",
   "metadata": {},
   "outputs": [],
   "source": [
    "first_owner = bike_df[bike_df['owner'].str.contains('1st', case=False)]\n",
    "plt.figure()\n",
    "plt.scatter(first_owner['km_driven'], first_owner['selling_price'], alpha=0.5)\n",
    "plt.title('Price vs. KM (1st Owner)')\n",
    "plt.xlabel('KM Driven')\n",
    "plt.ylabel('Selling Price (₹)')\n",
    "plt.show()"
   ]
  },
  {
   "cell_type": "markdown",
   "id": "9218362e",
   "metadata": {},
   "source": [
    "🔸 **Q11. Remove `km_driven` outliers using IQR**"
   ]
  },
  {
   "cell_type": "code",
   "execution_count": null,
   "id": "d40d44b6",
   "metadata": {},
   "outputs": [],
   "source": [
    "Q1 = bike_df['km_driven'].quantile(0.25)\n",
    "Q3 = bike_df['km_driven'].quantile(0.75)\n",
    "IQR = Q3 - Q1\n",
    "lower, upper = Q1 - 1.5*IQR, Q3 + 1.5*IQR\n",
    "bike_df_clean = bike_df[(bike_df['km_driven'] >= lower) & (bike_df['km_driven'] <= upper)]\n",
    "print('Remaining rows after outlier removal:', bike_df_clean.shape[0])"
   ]
  },
  {
   "cell_type": "markdown",
   "id": "00a179bb",
   "metadata": {},
   "source": [
    "🔸 **Q12. Year vs. Selling Price (scatter)**"
   ]
  },
  {
   "cell_type": "code",
   "execution_count": null,
   "id": "5a857163",
   "metadata": {},
   "outputs": [],
   "source": [
    "plt.figure()\n",
    "plt.scatter(bike_df['year'], bike_df['selling_price'], alpha=0.4)\n",
    "plt.title('Year vs. Selling Price')\n",
    "plt.xlabel('Year')\n",
    "plt.ylabel('Selling Price (₹)')\n",
    "plt.show()"
   ]
  },
  {
   "cell_type": "markdown",
   "id": "2a3f4b79",
   "metadata": {},
   "source": [
    "🔸 **Q13. Average depreciation by age**"
   ]
  },
  {
   "cell_type": "code",
   "execution_count": null,
   "id": "05f348fc",
   "metadata": {},
   "outputs": [],
   "source": [
    "current_year = date.today().year\n",
    "bike_df['age'] = current_year - bike_df['year']\n",
    "dep_by_age = bike_df.groupby('age')['selling_price'].mean().sort_index()\n",
    "dep_by_age.head()"
   ]
  },
  {
   "cell_type": "markdown",
   "id": "ccec3073",
   "metadata": {},
   "source": [
    "🔸 **Q14. Bikes priced significantly above annual average**"
   ]
  },
  {
   "cell_type": "code",
   "execution_count": null,
   "id": "25d40e96",
   "metadata": {},
   "outputs": [],
   "source": [
    "# Computes z‑score for each bike vs its year average\n",
    "bike_df['year_avg'] = bike_df.groupby('year')['selling_price'].transform('mean')\n",
    "bike_df['z_score'] = (bike_df['selling_price'] - bike_df['year_avg'])/bike_df.groupby('year')['selling_price'].transform('std')\n",
    "above_2sd = bike_df[bike_df['z_score'] > 2][['name','year','selling_price','z_score']]\n",
    "above_2sd.head()"
   ]
  },
  {
   "cell_type": "markdown",
   "id": "32903603",
   "metadata": {},
   "source": [
    "🔸 **Q15. Correlation heatmap (numeric cols)**"
   ]
  },
  {
   "cell_type": "code",
   "execution_count": null,
   "id": "122f1ec0",
   "metadata": {},
   "outputs": [],
   "source": [
    "plt.figure(figsize=(6,4))\n",
    "cor = bike_df[['selling_price','km_driven','year','ex_showroom_price']].corr()\n",
    "sns.heatmap(cor, annot=True, cmap='Blues')\n",
    "plt.title('Correlation Matrix')\n",
    "plt.show()"
   ]
  },
  {
   "cell_type": "markdown",
   "id": "cb880e80",
   "metadata": {},
   "source": [
    "\n",
    "---\n",
    "## 2️⃣ Used Car Sales Dataset"
   ]
  },
  {
   "cell_type": "markdown",
   "id": "9da7048b",
   "metadata": {},
   "source": [
    "Load the dataset:"
   ]
  },
  {
   "cell_type": "code",
   "execution_count": null,
   "id": "9c9b3986",
   "metadata": {},
   "outputs": [],
   "source": [
    "# ⬇️ Update the path\n",
    "car_df = pd.read_csv('car_sales.csv')\n",
    "print('Rows:', car_df.shape[0])\n",
    "car_df.head()"
   ]
  },
  {
   "cell_type": "markdown",
   "id": "68c73925",
   "metadata": {},
   "source": [
    "🔎 **Q1. Average selling price per dealer & comparison**"
   ]
  },
  {
   "cell_type": "code",
   "execution_count": null,
   "id": "798eebcd",
   "metadata": {},
   "outputs": [],
   "source": [
    "avg_price_dealer = car_df.groupby('Dealer_Name')['Price ($)'].mean().sort_values(ascending=False)\n",
    "avg_price_dealer.head()"
   ]
  },
  {
   "cell_type": "markdown",
   "id": "ffeef044",
   "metadata": {},
   "source": [
    "🔸 **Q2. Brand with highest price variation**"
   ]
  },
  {
   "cell_type": "code",
   "execution_count": null,
   "id": "1ffd701d",
   "metadata": {},
   "outputs": [],
   "source": [
    "variation = car_df.groupby('Company')['Price ($)'].agg(np.var).sort_values(ascending=False)\n",
    "variation.head()"
   ]
  },
  {
   "cell_type": "markdown",
   "id": "cfb076bd",
   "metadata": {},
   "source": [
    "🔸 **Q3. Price distribution by transmission (box plot)**"
   ]
  },
  {
   "cell_type": "code",
   "execution_count": null,
   "id": "1e5223f8",
   "metadata": {},
   "outputs": [],
   "source": [
    "plt.figure()\n",
    "sns.boxplot(data=car_df, x='Transmission', y='Price ($)')\n",
    "plt.title('Price vs Transmission')\n",
    "plt.show()"
   ]
  },
  {
   "cell_type": "markdown",
   "id": "7e246296",
   "metadata": {},
   "source": [
    "🔸 **Q4. Price distribution across regions**"
   ]
  },
  {
   "cell_type": "code",
   "execution_count": null,
   "id": "4da6b0f2",
   "metadata": {},
   "outputs": [],
   "source": [
    "plt.figure(figsize=(8,4))\n",
    "sns.boxplot(data=car_df, x='Dealer_Region', y='Price ($)')\n",
    "plt.show()"
   ]
  },
  {
   "cell_type": "markdown",
   "id": "5a631ed4",
   "metadata": {},
   "source": [
    "🔸 **Q5. Distribution of cars based on body styles**"
   ]
  },
  {
   "cell_type": "code",
   "execution_count": null,
   "id": "a91dcfdf",
   "metadata": {},
   "outputs": [],
   "source": [
    "car_df['Body Style'].value_counts()"
   ]
  },
  {
   "cell_type": "markdown",
   "id": "6b8c679c",
   "metadata": {},
   "source": [
    "🔸 **Q6. Avg price by customer gender & income**"
   ]
  },
  {
   "cell_type": "code",
   "execution_count": null,
   "id": "3bd42984",
   "metadata": {},
   "outputs": [],
   "source": [
    "car_df['Income Bracket'] = pd.cut(car_df['Annual Income'], bins=[0,30000,60000,90000, np.inf], labels=['<30k','30‑60k','60‑90k','90k+'])\n",
    "car_gender_income = car_df.groupby(['Gender','Income Bracket'])['Price ($)'].mean().unstack()\n",
    "car_gender_income"
   ]
  },
  {
   "cell_type": "markdown",
   "id": "df508ae0",
   "metadata": {},
   "source": [
    "🔸 **Q7. Price & volume by region**"
   ]
  },
  {
   "cell_type": "code",
   "execution_count": null,
   "id": "cb123eac",
   "metadata": {},
   "outputs": [],
   "source": [
    "avg_price_region = car_df.groupby('Dealer_Region')['Price ($)'].mean()\n",
    "count_region = car_df['Dealer_Region'].value_counts()\n",
    "pd.concat([avg_price_region, count_region], axis=1).rename(columns={'Price ($)':'Avg Price','Dealer_Region':'Count'})"
   ]
  },
  {
   "cell_type": "markdown",
   "id": "bb108016",
   "metadata": {},
   "source": [
    "🔸 **Q8. Price difference across engine sizes**"
   ]
  },
  {
   "cell_type": "code",
   "execution_count": null,
   "id": "c715b637",
   "metadata": {},
   "outputs": [],
   "source": [
    "avg_price_engine = car_df.groupby('Engine')['Price ($)'].mean().sort_values(ascending=False)\n",
    "avg_price_engine"
   ]
  },
  {
   "cell_type": "markdown",
   "id": "d1e84c63",
   "metadata": {},
   "source": [
    "🔸 **Q9. Price vs customer income bracket**"
   ]
  },
  {
   "cell_type": "code",
   "execution_count": null,
   "id": "aabaefb0",
   "metadata": {},
   "outputs": [],
   "source": [
    "plt.figure()\n",
    "sns.boxplot(data=car_df, x='Income Bracket', y='Price ($)')\n",
    "plt.show()"
   ]
  },
  {
   "cell_type": "markdown",
   "id": "34b64c3e",
   "metadata": {},
   "source": [
    "🔸 **Q10. Top‑5 car models by sales & price distribution**"
   ]
  },
  {
   "cell_type": "code",
   "execution_count": null,
   "id": "0b3038f5",
   "metadata": {},
   "outputs": [],
   "source": [
    "top_models = car_df['Model'].value_counts().head(5).index\n",
    "plt.figure()\n",
    "sns.boxplot(data=car_df[car_df['Model'].isin(top_models)], x='Model', y='Price ($)')\n",
    "plt.show()"
   ]
  },
  {
   "cell_type": "markdown",
   "id": "f5a4704f",
   "metadata": {},
   "source": [
    "🔸 **Q11. Price vs engine size across colors**"
   ]
  },
  {
   "cell_type": "code",
   "execution_count": null,
   "id": "2fcbb9af",
   "metadata": {},
   "outputs": [],
   "source": [
    "plt.figure(figsize=(8,4))\n",
    "sns.scatterplot(data=car_df, x='Engine', y='Price ($)', hue='Color', alpha=0.6)\n",
    "plt.show()"
   ]
  },
  {
   "cell_type": "markdown",
   "id": "d5321b59",
   "metadata": {},
   "source": [
    "🔸 **Q12. Seasonal trend in sales (by month)**"
   ]
  },
  {
   "cell_type": "code",
   "execution_count": null,
   "id": "e43d5170",
   "metadata": {},
   "outputs": [],
   "source": [
    "car_df['Month'] = pd.to_datetime(car_df['Date']).dt.month\n",
    "sales_by_month = car_df.groupby('Month')['Car_id'].count()\n",
    "sales_by_month.plot(kind='bar', title='Cars Sold by Month');"
   ]
  },
  {
   "cell_type": "markdown",
   "id": "9091f3af",
   "metadata": {},
   "source": [
    "🔸 **Q13. Price distribution for Body Style × Transmission**"
   ]
  },
  {
   "cell_type": "code",
   "execution_count": null,
   "id": "aad5c133",
   "metadata": {},
   "outputs": [],
   "source": [
    "plt.figure(figsize=(8,4))\n",
    "sns.boxplot(data=car_df, x='Body Style', y='Price ($)', hue='Transmission')\n",
    "plt.xticks(rotation=45)\n",
    "plt.show()"
   ]
  },
  {
   "cell_type": "markdown",
   "id": "626e7685",
   "metadata": {},
   "source": [
    "🔸 **Q14. Correlation: price, engine size & annual income**"
   ]
  },
  {
   "cell_type": "code",
   "execution_count": null,
   "id": "97955120",
   "metadata": {},
   "outputs": [],
   "source": [
    "corr_cols = car_df[['Price ($)','Annual Income']].copy()\n",
    "# Assuming engine is numeric; if not, map to size\n",
    "corr_cols['EngineSize'] = car_df['Engine'].str.extract('(\\d+)').astype(float)\n",
    "sns.pairplot(corr_cols)\n",
    "plt.show()"
   ]
  },
  {
   "cell_type": "markdown",
   "id": "e2f25e67",
   "metadata": {},
   "source": [
    "🔸 **Q15. Avg price across models & engine types**"
   ]
  },
  {
   "cell_type": "code",
   "execution_count": null,
   "id": "24e6e54d",
   "metadata": {},
   "outputs": [],
   "source": [
    "avg_model_engine = car_df.groupby(['Model','Engine'])['Price ($)'].mean().sort_values(ascending=False).head(10)\n",
    "avg_model_engine"
   ]
  },
  {
   "cell_type": "markdown",
   "id": "bed48d54",
   "metadata": {},
   "source": [
    "\n",
    "---\n",
    "## 3️⃣ Amazon Product Sales Dataset"
   ]
  },
  {
   "cell_type": "code",
   "execution_count": null,
   "id": "fb7f11dd",
   "metadata": {},
   "outputs": [],
   "source": [
    "amazon_df = pd.read_csv('amazon_sales.csv')\n",
    "amazon_df.head()"
   ]
  },
  {
   "cell_type": "markdown",
   "id": "b504d0fa",
   "metadata": {},
   "source": [
    "🔎 **Q1. Average rating per category**"
   ]
  },
  {
   "cell_type": "code",
   "execution_count": null,
   "id": "037ea6d2",
   "metadata": {},
   "outputs": [],
   "source": [
    "avg_rating = amazon_df.groupby('category')['rating'].mean().sort_values(ascending=False)\n",
    "avg_rating.head()"
   ]
  },
  {
   "cell_type": "markdown",
   "id": "d1278f48",
   "metadata": {},
   "source": [
    "🔸 **Q2. Top products by rating count per category**"
   ]
  },
  {
   "cell_type": "code",
   "execution_count": null,
   "id": "03d1a61b",
   "metadata": {},
   "outputs": [],
   "source": [
    "top_count = amazon_df.sort_values(['category','rating_count'], ascending=[True,False]).groupby('category').head(3)[['product_name','rating_count']]\n",
    "top_count"
   ]
  },
  {
   "cell_type": "markdown",
   "id": "040a5fba",
   "metadata": {},
   "source": [
    "🔸 **Q3. Distribution of discounted vs actual prices**"
   ]
  },
  {
   "cell_type": "code",
   "execution_count": null,
   "id": "93957078",
   "metadata": {},
   "outputs": [],
   "source": [
    "plt.figure()\n",
    "sns.histplot(amazon_df['discounted_price'], label='Discounted', kde=True, alpha=0.5)\n",
    "sns.histplot(amazon_df['actual_price'], label='Actual', kde=True, alpha=0.5)\n",
    "plt.legend()\n",
    "plt.show()"
   ]
  },
  {
   "cell_type": "markdown",
   "id": "d9b79ea8",
   "metadata": {},
   "source": [
    "🔸 **Q4. Average discount % across categories**"
   ]
  },
  {
   "cell_type": "code",
   "execution_count": null,
   "id": "d3a85fee",
   "metadata": {},
   "outputs": [],
   "source": [
    "avg_disc = amazon_df.groupby('category')['discount_percentage'].mean().sort_values(ascending=False)\n",
    "avg_disc.head()"
   ]
  },
  {
   "cell_type": "markdown",
   "id": "c6c80c3f",
   "metadata": {},
   "source": [
    "🔸 **Q5. Most popular product names**"
   ]
  },
  {
   "cell_type": "code",
   "execution_count": null,
   "id": "8bb9fede",
   "metadata": {},
   "outputs": [],
   "source": [
    "amazon_df['product_name'].value_counts().head()"
   ]
  },
  {
   "cell_type": "markdown",
   "id": "99fb913c",
   "metadata": {},
   "source": [
    "🔸 **Q6. Most common product keywords**"
   ]
  },
  {
   "cell_type": "code",
   "execution_count": null,
   "id": "e6f830f3",
   "metadata": {},
   "outputs": [],
   "source": [
    "from collections import Counter\n",
    "keywords = amazon_df['product_name'].str.lower().str.split().explode()\n",
    "common_keywords = Counter(keywords).most_common(10)\n",
    "common_keywords"
   ]
  },
  {
   "cell_type": "markdown",
   "id": "676c1e81",
   "metadata": {},
   "source": [
    "🔸 **Q7. Most popular review titles**"
   ]
  },
  {
   "cell_type": "code",
   "execution_count": null,
   "id": "3bd009f5",
   "metadata": {},
   "outputs": [],
   "source": [
    "amazon_df['review_title'].value_counts().head()"
   ]
  },
  {
   "cell_type": "markdown",
   "id": "c3c59d8b",
   "metadata": {},
   "source": [
    "🔸 **Q8. Correlation: discounted_price vs rating**"
   ]
  },
  {
   "cell_type": "code",
   "execution_count": null,
   "id": "b5f3b30f",
   "metadata": {},
   "outputs": [],
   "source": [
    "corr = amazon_df[['discounted_price','rating']].corr().iloc[0,1]\n",
    "print('Correlation:', corr)"
   ]
  },
  {
   "cell_type": "markdown",
   "id": "25a72e26",
   "metadata": {},
   "source": [
    "🔸 **Q9. Top‑5 categories by highest ratings**"
   ]
  },
  {
   "cell_type": "code",
   "execution_count": null,
   "id": "c4f7354f",
   "metadata": {},
   "outputs": [],
   "source": [
    "top_cat = amazon_df.groupby('category')['rating'].mean().sort_values(ascending=False).head(5)\n",
    "top_cat"
   ]
  },
  {
   "cell_type": "markdown",
   "id": "29706f71",
   "metadata": {},
   "source": [
    "🔸 **Q10. Improvement opportunities**"
   ]
  },
  {
   "cell_type": "code",
   "execution_count": null,
   "id": "d6be2988",
   "metadata": {},
   "outputs": [],
   "source": [
    "display('👇 Potential optimisation areas:',\n",
    "        '* Categories with high discounts but low ratings could indicate quality issues',\n",
    "        '* Products with many reviews but mediocre ratings might benefit from feedback analysis',\n",
    "        '* Low discount % and low sales volume categories could be candidates for promotional campaigns')"
   ]
  },
  {
   "cell_type": "markdown",
   "id": "811ce49c",
   "metadata": {},
   "source": [
    "\n",
    "---\n",
    "## 4️⃣ Spotify Hip‑hop Tracks Dataset"
   ]
  },
  {
   "cell_type": "code",
   "execution_count": null,
   "id": "625b4b87",
   "metadata": {},
   "outputs": [],
   "source": [
    "spotify_df = pd.read_csv('spotify_hiphop.csv')\n",
    "spotify_df.head()"
   ]
  },
  {
   "cell_type": "markdown",
   "id": "768e936f",
   "metadata": {},
   "source": [
    "🔎 **Q1. Handle nulls & duplicates**"
   ]
  },
  {
   "cell_type": "code",
   "execution_count": null,
   "id": "7d318eee",
   "metadata": {},
   "outputs": [],
   "source": [
    "# Drop duplicate rows\n",
    "spotify_df = spotify_df.drop_duplicates()\n",
    "# Fill or drop nulls\n",
    "spotify_df = spotify_df.dropna()\n",
    "spotify_df.isna().sum()"
   ]
  },
  {
   "cell_type": "markdown",
   "id": "9625e217",
   "metadata": {},
   "source": [
    "🔸 **Q2. Popularity distribution (histogram)**"
   ]
  },
  {
   "cell_type": "code",
   "execution_count": null,
   "id": "841673d9",
   "metadata": {},
   "outputs": [],
   "source": [
    "plt.figure()\n",
    "plt.hist(spotify_df['Popularity'], bins=20)\n",
    "plt.title('Popularity Distribution')\n",
    "plt.xlabel('Popularity')\n",
    "plt.ylabel('Frequency')\n",
    "plt.show()"
   ]
  },
  {
   "cell_type": "markdown",
   "id": "2ae1e634",
   "metadata": {},
   "source": [
    "🔸 **Q3. Popularity vs duration (scatter)**"
   ]
  },
  {
   "cell_type": "code",
   "execution_count": null,
   "id": "c5bd7a78",
   "metadata": {},
   "outputs": [],
   "source": [
    "plt.figure()\n",
    "plt.scatter(spotify_df['Duration (ms)'], spotify_df['Popularity'], alpha=0.4)\n",
    "plt.xlabel('Duration (ms)')\n",
    "plt.ylabel('Popularity')\n",
    "plt.title('Popularity vs Duration')\n",
    "plt.show()"
   ]
  },
  {
   "cell_type": "markdown",
   "id": "c93fc448",
   "metadata": {},
   "source": [
    "🔸 **Q4. Artist track counts (countplot)**"
   ]
  },
  {
   "cell_type": "code",
   "execution_count": null,
   "id": "672cfe43",
   "metadata": {},
   "outputs": [],
   "source": [
    "plt.figure(figsize=(8,4))\n",
    "# Show top 10 for clarity\n",
    "sns.countplot(data=spotify_df, y='Artist', order=spotify_df['Artist'].value_counts().head(10).index)\n",
    "plt.title('Tracks per Artist (top 10)')\n",
    "plt.show()"
   ]
  },
  {
   "cell_type": "markdown",
   "id": "0940205a",
   "metadata": {},
   "source": [
    "🔸 **Q5. 5 least popular tracks**"
   ]
  },
  {
   "cell_type": "code",
   "execution_count": null,
   "id": "1d0c6dd4",
   "metadata": {},
   "outputs": [],
   "source": [
    "spotify_df.nsmallest(5, 'Popularity')[['Artist','Track Name','Popularity']]"
   ]
  },
  {
   "cell_type": "markdown",
   "id": "3ac4e4c6",
   "metadata": {},
   "source": [
    "🔸 **Q6. Avg popularity among top‑5 artists**"
   ]
  },
  {
   "cell_type": "code",
   "execution_count": null,
   "id": "d2ea1e49",
   "metadata": {},
   "outputs": [],
   "source": [
    "top5_artists = spotify_df['Artist'].value_counts().head(5).index\n",
    "avg_pop = spotify_df[spotify_df['Artist'].isin(top5_artists)].groupby('Artist')['Popularity'].mean()\n",
    "avg_pop"
   ]
  },
  {
   "cell_type": "markdown",
   "id": "53deb3be",
   "metadata": {},
   "source": [
    "🔸 **Q7. Most popular track per top‑5 artist**"
   ]
  },
  {
   "cell_type": "code",
   "execution_count": null,
   "id": "93c4ad0f",
   "metadata": {},
   "outputs": [],
   "source": [
    "most_pop_tracks = spotify_df[spotify_df['Artist'].isin(top5_artists)].sort_values(['Artist','Popularity'], ascending=[True,False]).groupby('Artist').head(1)[['Artist','Track Name','Popularity']]\n",
    "most_pop_tracks"
   ]
  },
  {
   "cell_type": "markdown",
   "id": "18e8fd35",
   "metadata": {},
   "source": [
    "🔸 **Q8. Pair plot of numeric vars**"
   ]
  },
  {
   "cell_type": "code",
   "execution_count": null,
   "id": "a97e332c",
   "metadata": {},
   "outputs": [],
   "source": [
    "sns.pairplot(spotify_df[['Popularity','Duration (ms)']])\n",
    "plt.show()"
   ]
  },
  {
   "cell_type": "markdown",
   "id": "04d91a8e",
   "metadata": {},
   "source": [
    "🔸 **Q9. Duration variation across artists (box plot)**"
   ]
  },
  {
   "cell_type": "code",
   "execution_count": null,
   "id": "8318af4b",
   "metadata": {},
   "outputs": [],
   "source": [
    "plt.figure(figsize=(8,4))\n",
    "sns.boxplot(data=spotify_df, x='Artist', y='Duration (ms)', order=top5_artists)\n",
    "plt.xticks(rotation=45)\n",
    "plt.show()"
   ]
  },
  {
   "cell_type": "markdown",
   "id": "d3c12777",
   "metadata": {},
   "source": [
    "🔸 **Q10. Popularity distribution per artist (violin)**"
   ]
  },
  {
   "cell_type": "code",
   "execution_count": null,
   "id": "e9f6de54",
   "metadata": {},
   "outputs": [],
   "source": [
    "plt.figure(figsize=(8,4))\n",
    "sns.violinplot(data=spotify_df[spotify_df['Artist'].isin(top5_artists)], x='Artist', y='Popularity')\n",
    "plt.show()"
   ]
  }
 ],
 "metadata": {
  "language_info": {
   "name": "python"
  }
 },
 "nbformat": 4,
 "nbformat_minor": 5
}
